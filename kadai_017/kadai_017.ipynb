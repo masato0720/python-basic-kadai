{
  "nbformat": 4,
  "nbformat_minor": 0,
  "metadata": {
    "colab": {
      "provenance": []
    },
    "kernelspec": {
      "name": "python3",
      "display_name": "Python 3"
    },
    "language_info": {
      "name": "python"
    }
  },
  "cells": [
    {
      "cell_type": "code",
      "execution_count": 4,
      "metadata": {
        "colab": {
          "base_uri": "https://localhost:8080/"
        },
        "id": "6Er3BNtSo4C3",
        "outputId": "f08c08aa-4eb3-465e-f52a-dbd73bb2cb73"
      },
      "outputs": [
        {
          "output_type": "stream",
          "name": "stdout",
          "text": [
            "石川は成人です。\n",
            "高橋は未成年です。\n",
            "西田は未成年です。\n"
          ]
        }
      ],
      "source": [
        "class Human:\n",
        "    def __init__(self, name, age):\n",
        "        self.name = name\n",
        "        self.age = age\n",
        "\n",
        "    def check_adult(self):\n",
        "        if self.age >= 20:\n",
        "            print(f\"{self.name}は成人です。\")\n",
        "        else:\n",
        "            print(f\"{self.name}は未成年です。\")\n",
        "\n",
        "# Humanクラスのインスタンスを複数生成\n",
        "human1 = Human(\"石川\", 20)\n",
        "human2 = Human(\"高橋\", 15)\n",
        "human3 = Human(\"西田\", 19)\n",
        "\n",
        "# 生成したインスタンスをリストに追加\n",
        "human_list = [human1, human2, human3]\n",
        "\n",
        "# リストの要素数分だけcheck_adultメソッドを呼び出す\n",
        "for human in human_list:\n",
        "    human.check_adult()"
      ]
    }
  ]
}