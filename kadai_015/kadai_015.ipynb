{
  "nbformat": 4,
  "nbformat_minor": 0,
  "metadata": {
    "colab": {
      "provenance": []
    },
    "kernelspec": {
      "name": "python3",
      "display_name": "Python 3"
    },
    "language_info": {
      "name": "python"
    }
  },
  "cells": [
    {
      "cell_type": "code",
      "execution_count": 1,
      "metadata": {
        "colab": {
          "base_uri": "https://localhost:8080/"
        },
        "id": "2G_Td3RbGD3e",
        "outputId": "e87ced72-2743-420f-cc07-74d5cab02b8a"
      },
      "outputs": [
        {
          "output_type": "stream",
          "name": "stdout",
          "text": [
            "Name: 侍太郎, Age: 36\n"
          ]
        }
      ],
      "source": [
        "class Human:\n",
        "\n",
        "    # コンストラクタを定義する\n",
        "    def __init__(self, name, age):\n",
        "\n",
        "        self.name = name\n",
        "        self.age = age\n",
        "\n",
        "    # nameとageを標準出力するメソッドを定義する\n",
        "    def printinfo(self):\n",
        "\n",
        "        print(f\"Name: {self.name}, Age: {self.age}\")\n",
        "\n",
        "# インスタンス化する\n",
        "human = Human(\"侍太郎\", 36)\n",
        "\n",
        "# printinfoメソッドを呼び出して表示する\n",
        "human.printinfo()"
      ]
    }
  ]
}