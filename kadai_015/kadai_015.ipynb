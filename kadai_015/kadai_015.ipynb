{
  "nbformat": 4,
  "nbformat_minor": 0,
  "metadata": {
    "colab": {
      "provenance": []
    },
    "kernelspec": {
      "name": "python3",
      "display_name": "Python 3"
    },
    "language_info": {
      "name": "python"
    }
  },
  "cells": [
    {
      "cell_type": "code",
      "execution_count": 7,
      "metadata": {
        "colab": {
          "base_uri": "https://localhost:8080/"
        },
        "id": "2G_Td3RbGD3e",
        "outputId": "1d088079-ca7c-4e8f-aa74-8320c2224b05"
      },
      "outputs": [
        {
          "output_type": "stream",
          "name": "stdout",
          "text": [
            "名前（侍太郎）, 年齢（36）\n"
          ]
        }
      ],
      "source": [
        "class Human:\n",
        "\n",
        "    # コンストラクタを定義する\n",
        "    def __init__(self, name, age):\n",
        "        self.name = name\n",
        "        self.age = age\n",
        "\n",
        "    # nameとageを標準出力するメソッドを定義する\n",
        "    def printinfo(self):\n",
        "        print(f\"名前（{self.name}）, 年齢（{self.age}）\")\n",
        "\n",
        "# インスタンス化する\n",
        "Human = Human(\"侍太郎\", 36)\n",
        "\n",
        "# printinfoメソッドを呼び出して表示する\n",
        "Human.printinfo()"
      ]
    }
  ]
}