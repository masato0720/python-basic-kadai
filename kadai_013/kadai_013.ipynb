{
  "nbformat": 4,
  "nbformat_minor": 0,
  "metadata": {
    "colab": {
      "provenance": []
    },
    "kernelspec": {
      "name": "python3",
      "display_name": "Python 3"
    },
    "language_info": {
      "name": "python"
    }
  },
  "cells": [
    {
      "cell_type": "code",
      "execution_count": 2,
      "metadata": {
        "colab": {
          "base_uri": "https://localhost:8080/"
        },
        "id": "xDn04ueWwXPq",
        "outputId": "048957cd-34a1-4aab-a89a-6276d3bd4d1c"
      },
      "outputs": [
        {
          "output_type": "stream",
          "name": "stdout",
          "text": [
            "550.0円\n"
          ]
        }
      ],
      "source": [
        "def total_price(price, tax):\n",
        "\n",
        "    total = price + price * tax\n",
        "\n",
        "    print(f\"{total}円\")\n",
        "\n",
        "total_price(500, 0.1)"
      ]
    }
  ]
}