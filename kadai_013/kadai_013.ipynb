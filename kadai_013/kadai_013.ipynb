{
  "nbformat": 4,
  "nbformat_minor": 0,
  "metadata": {
    "colab": {
      "provenance": []
    },
    "kernelspec": {
      "name": "python3",
      "display_name": "Python 3"
    },
    "language_info": {
      "name": "python"
    }
  },
  "cells": [
    {
      "cell_type": "code",
      "execution_count": 6,
      "metadata": {
        "colab": {
          "base_uri": "https://localhost:8080/"
        },
        "id": "xDn04ueWwXPq",
        "outputId": "e1997b3e-7305-4aeb-d864-a02eaa507290"
      },
      "outputs": [
        {
          "output_type": "stream",
          "name": "stdout",
          "text": [
            "550.0円\n"
          ]
        }
      ],
      "source": [
        "def total_price(price, tax):\n",
        "\n",
        "    total = price + price * tax\n",
        "    return total\n",
        "\n",
        "result = total_price(500, 0.1)\n",
        "\n",
        "print(f\"{result}円\")"
      ]
    }
  ]
}