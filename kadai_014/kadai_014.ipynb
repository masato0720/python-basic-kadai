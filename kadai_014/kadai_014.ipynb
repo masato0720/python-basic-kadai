{
  "nbformat": 4,
  "nbformat_minor": 0,
  "metadata": {
    "colab": {
      "provenance": []
    },
    "kernelspec": {
      "name": "python3",
      "display_name": "Python 3"
    },
    "language_info": {
      "name": "python"
    }
  },
  "cells": [
    {
      "cell_type": "code",
      "execution_count": 1,
      "metadata": {
        "colab": {
          "base_uri": "https://localhost:8080/"
        },
        "id": "gDpmQnEqDzFV",
        "outputId": "02e90aed-9879-45e3-cbf8-756ad4e415f9"
      },
      "outputs": [
        {
          "output_type": "stream",
          "name": "stdout",
          "text": [
            "330.0\n"
          ]
        }
      ],
      "source": [
        "price1 = 100\n",
        "price2 = 200\n",
        "tax = 1.1\n",
        "\n",
        "\n",
        "def total():\n",
        "    total_total = price1 + price2\n",
        "    print(total_total * tax)\n",
        "\n",
        "\n",
        "total()"
      ]
    }
  ]
}