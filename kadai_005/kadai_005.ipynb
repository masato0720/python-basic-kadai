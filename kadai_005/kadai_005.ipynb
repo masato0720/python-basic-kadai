{
  "nbformat": 4,
  "nbformat_minor": 0,
  "metadata": {
    "colab": {
      "provenance": []
    },
    "kernelspec": {
      "name": "python3",
      "display_name": "Python 3"
    },
    "language_info": {
      "name": "python"
    }
  },
  "cells": [
    {
      "cell_type": "code",
      "execution_count": 9,
      "metadata": {
        "colab": {
          "base_uri": "https://localhost:8080/"
        },
        "id": "DVTU1qAnXg2o",
        "outputId": "5882d93b-3734-4ad0-cb1b-07675c5a8bdd"
      },
      "outputs": [
        {
          "output_type": "stream",
          "name": "stdout",
          "text": [
            "75.0cm²\n"
          ]
        }
      ],
      "source": [
        "trapezoid_area=(10+20)*5/2\n",
        "print(str(trapezoid_area) + 'cm²')\n"
      ]
    }
  ]
}